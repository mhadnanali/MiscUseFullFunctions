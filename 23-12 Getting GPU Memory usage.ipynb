{
  "cells": [
    {
      "cell_type": "markdown",
      "metadata": {},
      "source": [
        "# Code get memory usage information from GPU using gpustat command"
      ]
    },
    {
      "cell_type": "markdown",
      "metadata": {},
      "source": [
        "## sample csv file is also attached"
      ]
    },
    {
      "cell_type": "code",
      "execution_count": null,
      "metadata": {},
      "outputs": [],
      "source": [
        "import time\n",
        "import datetime\n",
        "import subprocess\n",
        "import pandas as pd\n",
        "import json\n",
        "\n",
        "# Create a DataFrame to store memory consumption data\n",
        "memory_df = pd.DataFrame(columns=[\"Time\"])\n",
        "\n",
        "# Function to get GPU memory usage\n",
        "def get_gpu_memory_usage():\n",
        "    cmd = \"gpustat --json\"\n",
        "    result = subprocess.check_output(cmd.split()).decode(\"utf-8\")\n",
        "    gpu_info = json.loads(result)[\"gpus\"]\n",
        "    gpu_memory_usage = []\n",
        "    for gpu in gpu_info:\n",
        "        for process in gpu[\"processes\"]:\n",
        "            gpu_memory_usage.append({\"GPU\": gpu[\"index\"], \"PID\": process[\"pid\"], \"User\": process[\"username\"], \"Memory\": process[\"gpu_memory_usage\"]})\n",
        "    return gpu_memory_usage\n",
        "\n",
        "# Track memory consumption at different points in your code\n",
        "# Example:\n",
        "for i in range(10):\n",
        "    # Your code here\n",
        "\n",
        "    # Get GPU memory usage and add it to the DataFrame\n",
        "    gpu_memory_usage = get_gpu_memory_usage()\n",
        "    current_time = time.time()\n",
        "    human_readable_time = datetime.datetime.fromtimestamp(current_time).strftime('%Y-%m-%d %H:%M:%S')\n",
        "    memory_data = {\"Time\": human_readable_time}  # Convert timestamp to human-readable time\n",
        "    for gpu_usage in gpu_memory_usage:\n",
        "        gpu = gpu_usage[\"GPU\"]\n",
        "        pid = gpu_usage[\"PID\"]\n",
        "        username = gpu_usage[\"User\"]\n",
        "        memory = gpu_usage[\"Memory\"]\n",
        "        column_name = f\"GPU {gpu} (PID {pid}) - User: {username}\"\n",
        "        memory_data[column_name] = memory\n",
        "\n",
        "    # Simulate new process starting during code execution\n",
        "    if i == 5:\n",
        "        new_process = {\"GPU\": 1, \"PID\": 1234, \"User\": \"new_user\", \"Memory\": 512}\n",
        "        column_name = f\"GPU {new_process['GPU']} (PID {new_process['PID']}) - User: {new_process['User']}\"\n",
        "        memory_data[column_name] = new_process['Memory']\n",
        "\n",
        "    memory_df = pd.concat([memory_df, pd.DataFrame(memory_data, index=[0])], ignore_index=True)\n",
        "\n",
        "# Save the DataFrame to a CSV file\n",
        "memory_df.to_csv(\"memory_consumption.csv\", index=False)"
      ]
    }
  ],
  "metadata": {
    "colab": {
      "provenance": []
    },
    "kernelspec": {
      "display_name": "Python 3",
      "language": "python",
      "name": "python3"
    },
    "language_info": {
      "codemirror_mode": {
        "name": "ipython",
        "version": 3
      },
      "file_extension": ".py",
      "mimetype": "text/x-python",
      "name": "python",
      "nbconvert_exporter": "python",
      "pygments_lexer": "ipython3",
      "version": "3.10.4"
    }
  },
  "nbformat": 4,
  "nbformat_minor": 0
}
