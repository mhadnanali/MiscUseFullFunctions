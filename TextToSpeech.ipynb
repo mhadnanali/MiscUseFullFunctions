{
 "cells": [
  {
   "cell_type": "code",
   "execution_count": 1,
   "id": "62d4d159-0459-4e7d-9ec9-d07065e56304",
   "metadata": {},
   "outputs": [
    {
     "name": "stdout",
     "output_type": "stream",
     "text": [
      "Collecting gTTS\n",
      "  Downloading gTTS-2.3.1-py3-none-any.whl (28 kB)\n",
      "Collecting click<8.2,>=7.1\n",
      "  Downloading click-8.1.3-py3-none-any.whl (96 kB)\n",
      "\u001b[2K     \u001b[90m━━━━━━━━━━━━━━━━━━━━━━━━━━━━━━━━━━━━━━━\u001b[0m \u001b[32m96.6/96.6 kB\u001b[0m \u001b[31m684.2 kB/s\u001b[0m eta \u001b[36m0:00:00\u001b[0m \u001b[36m0:00:01\u001b[0m\n",
      "\u001b[?25hRequirement already satisfied: requests<3,>=2.27 in /home/adnan/.conda/envs/forGitAdl/lib/python3.10/site-packages (from gTTS) (2.28.1)\n",
      "Requirement already satisfied: idna<4,>=2.5 in /home/adnan/.conda/envs/forGitAdl/lib/python3.10/site-packages (from requests<3,>=2.27->gTTS) (3.3)\n",
      "Requirement already satisfied: certifi>=2017.4.17 in /home/adnan/.conda/envs/forGitAdl/lib/python3.10/site-packages (from requests<3,>=2.27->gTTS) (2022.6.15)\n",
      "Requirement already satisfied: charset-normalizer<3,>=2 in /home/adnan/.conda/envs/forGitAdl/lib/python3.10/site-packages (from requests<3,>=2.27->gTTS) (2.1.1)\n",
      "Requirement already satisfied: urllib3<1.27,>=1.21.1 in /home/adnan/.conda/envs/forGitAdl/lib/python3.10/site-packages (from requests<3,>=2.27->gTTS) (1.26.12)\n",
      "Installing collected packages: click, gTTS\n",
      "Successfully installed click-8.1.3 gTTS-2.3.1\n"
     ]
    }
   ],
   "source": [
    "!pip install gTTS"
   ]
  },
  {
   "cell_type": "code",
   "execution_count": null,
   "id": "77092685-6588-4eac-8da4-43a1b4797289",
   "metadata": {},
   "outputs": [],
   "source": [
    "# Import the required module for text\n",
    "# to speech conversion\n",
    "from gtts import gTTS\n",
    "\n",
    "# This module is imported so that we can\n",
    "# play the converted audio\n",
    "import os\n",
    "\n",
    "# The text that you want to convert to audio\n",
    "mytext = 'Welcome to geeksforgeeks!'\n",
    "\n",
    "# Language in which you want to convert\n",
    "language = 'en'\n",
    "\n",
    "# Passing the text and language to the engine,\n",
    "# here we have marked slow=False. Which tells\n",
    "# the module that the converted audio should\n",
    "# have a high speed\n",
    "myobj = gTTS(text=mytext, lang=language, slow=False)\n",
    "\n",
    "# Saving the converted audio in a mp3 file named\n",
    "# welcome\n",
    "myobj.save(\"welcome.mp3\")\n",
    "\n",
    "# Playing the converted file\n",
    "os.system(\"MP3/mpg321 welcome.mp3\")\n"
   ]
  },
  {
   "cell_type": "code",
   "execution_count": null,
   "id": "19c699d3-568f-4a0b-b20b-1188dee70ce8",
   "metadata": {},
   "outputs": [],
   "source": [
    "import os\n",
    "if not os.path.exists(\"MP3\"):\n",
    "    os.makedirs(\"MP3\")\n"
   ]
  },
  {
   "cell_type": "code",
   "execution_count": null,
   "id": "b239d226-8226-42f6-bc0e-5aaf422479d9",
   "metadata": {},
   "outputs": [],
   "source": [
    "from gtts import gTTS\n",
    "import os\n",
    "\n",
    "mytext = \"Hi, this is an example of converting text to audio. This is a bot speaking here, not a real human!\"\n",
    "audio = gTTS(text=mytext, lang=\"en\", slow=False)\n",
    "\n",
    "\n",
    "if not os.path.exists(\"MP3\"):\n",
    "    os.makedirs(\"MP3\")\n",
    "audio.save(\"MP3/example.mp3\")\n",
    "os.system(\"MP3/start example.mp3\")"
   ]
  },
  {
   "cell_type": "code",
   "execution_count": null,
   "id": "83cf0a06-0ed3-4b6c-9f28-e8ed7823ac00",
   "metadata": {},
   "outputs": [],
   "source": []
  }
 ],
 "metadata": {
  "kernelspec": {
   "display_name": "Python 3 (ipykernel)",
   "language": "python",
   "name": "python3"
  },
  "language_info": {
   "codemirror_mode": {
    "name": "ipython",
    "version": 3
   },
   "file_extension": ".py",
   "mimetype": "text/x-python",
   "name": "python",
   "nbconvert_exporter": "python",
   "pygments_lexer": "ipython3",
   "version": "3.10.4"
  }
 },
 "nbformat": 4,
 "nbformat_minor": 5
}
